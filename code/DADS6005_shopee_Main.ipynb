{
 "cells": [
  {
   "cell_type": "code",
   "execution_count": 1,
   "id": "773aa078",
   "metadata": {
    "scrolled": true
   },
   "outputs": [],
   "source": [
    "# %%capture\n",
    "# !pip install selenium\n",
    "# !pip install requests_html"
   ]
  },
  {
   "cell_type": "code",
   "execution_count": 2,
   "id": "c87024fd",
   "metadata": {},
   "outputs": [],
   "source": [
    "from selenium import webdriver\n",
    "from selenium.webdriver.common.by import By\n",
    "from selenium.webdriver.common.keys import Keys\n",
    "from selenium.webdriver import ActionChains\n",
    "from bs4 import BeautifulSoup\n",
    "import time\n",
    "import requests\n",
    "import bs4\n",
    "import selenium.webdriver.support.expected_conditions as ec\n",
    "from selenium.webdriver.support import expected_conditions\n",
    "from selenium.webdriver.support.ui import WebDriverWait\n",
    "import pandas as pd\n",
    "from datetime import datetime\n",
    "import openpyxl"
   ]
  },
  {
   "cell_type": "code",
   "execution_count": 3,
   "id": "7f286d60",
   "metadata": {},
   "outputs": [],
   "source": [
    "#add loop \n",
    "# url = 'https://shopee.co.th/royal_canin_official_shop?#page=0&sortBy=pop'"
   ]
  },
  {
   "cell_type": "code",
   "execution_count": 4,
   "id": "67bf0b1c",
   "metadata": {
    "scrolled": false
   },
   "outputs": [],
   "source": [
    "# driver = webdriver.Chrome(executable_path = r'C:\\Users\\pongp\\chromedriver')\n",
    "# driver.get('https://shopee.co.th/royal_canin_official_shop?page=1&sortBy=pop')\n",
    "# thai_button = driver.find_element(by=By.XPATH, value='//html/body/div[2]/div[1]/div[1]/div/div[3]/div[1]/button')\n",
    "# thai_button.click()\n",
    "# all_product = driver.find_element(by=By.XPATH, value='//html/body/div[1]/div/div[2]/div/div/div/div[2]/div/div[2]/div/div/div/a[2]')\n",
    "# all_product.click()\n",
    "# # driver.execute_script(\"document.body.style.zoom='20%'\")\n",
    "# data = driver.page_source"
   ]
  },
  {
   "cell_type": "code",
   "execution_count": null,
   "id": "2129f8d4",
   "metadata": {
    "scrolled": false
   },
   "outputs": [
    {
     "name": "stderr",
     "output_type": "stream",
     "text": [
      "<ipython-input-13-71130b176373>:8: DeprecationWarning: executable_path has been deprecated, please pass in a Service object\n",
      "  driver = webdriver.Chrome(executable_path = r'C:\\Users\\pongp\\chromedriver')\n"
     ]
    }
   ],
   "source": [
    "# royal-canin\n",
    "\n",
    "listall_product = []\n",
    "listall_price = []\n",
    "list_sale = []\n",
    "\n",
    "for i in range(0,6):\n",
    "    driver = webdriver.Chrome(executable_path = r'C:\\Users\\pongp\\chromedriver')\n",
    "    driver.get(f\"https://shopee.co.th/royal_canin_official_shop?page={i}&sortBy=pop\")\n",
    "    thai_button = driver.find_element(by=By.XPATH, value='//html/body/div[2]/div[1]/div[1]/div/div[3]/div[1]/button')\n",
    "    thai_button.click()\n",
    "    time.sleep(5)\n",
    "    product_list = driver.find_element(by=By.XPATH, value='//html/body/div[1]/div/div[2]/div/div/div/div[2]/div/div[2]/div/div/div/a[2]')\n",
    "    product_list.click()\n",
    "    data = driver.page_source\n",
    "    soup = bs4.BeautifulSoup(data) #type list\n",
    "    \n",
    "    # product_name\n",
    "    all_product = soup.find_all('div',{'class':'_16lgia _3UdQUf _3Q4n5M'})\n",
    "    for product in all_product:\n",
    "        listall_product.append(product.text)\n",
    "    \n",
    "    # price\n",
    "    all_price = [i.text[1:] for i in soup.find_all('div',{'class':'_2AKyiQ _1UJbfe'})]\n",
    "    for h in all_price:\n",
    "        u = h.split(' ')[0].split(',')\n",
    "        if len(u) == 2:\n",
    "            sale = u[0] + u[1]\n",
    "            listall_price.append(sale)\n",
    "        elif len(u) == 1:\n",
    "            sale = u[0]\n",
    "            listall_price.append(sale)\n",
    "        else :\n",
    "            print(\"ERROR!!\")\n",
    "            break\n",
    "    \n",
    "    # sale_amount\n",
    "    all_sales = soup.find_all('div',{'class':'_36z98S _2uoHuo'})\n",
    "    for k in all_sales:\n",
    "        b = k.text.split(\" \")[1].split(\"พัน\")\n",
    "        if len(b) == 2:\n",
    "            bb = float(b[0]) * 1000\n",
    "            list_sale.append(bb)\n",
    "        elif len(b) == 1:\n",
    "            bb = float(b[0])\n",
    "            list_sale.append(bb)\n",
    "        else :\n",
    "            print(\"ERROR!!\")\n",
    "            break\n",
    "\n",
    "if list_sale == [] :\n",
    "    print(\"ERROR!!\")\n",
    "    \n",
    "# df = pd.DataFrame(list(zip(listall_product, listall_price, list_sale)),columns=['product','price','sale_amout'])\n",
    "# df_royal = pd.concat([df_royal, df])\n",
    "\n",
    "# df_royal = df_royal.astype({'price':'int'},{'sale_amount':'int'})\n",
    "# df_royal['Revenue'] = df_royal['price']*df_royal['sale_amout']\n",
    "# df_royal['tag'] = 'shopee'\n",
    "# df_royal = df_royal.sort_values(by=\"sale_amout\").drop_duplicates()\n",
    "\n",
    "# df_royal    "
   ]
  },
  {
   "cell_type": "code",
   "execution_count": null,
   "id": "905e595a",
   "metadata": {},
   "outputs": [],
   "source": [
    "df = pd.DataFrame(list(zip(listall_product, listall_price, list_sale)),columns=['product','price','sale_amount'])\n",
    "df = df.drop_duplicates( keep='last')\n",
    "df = df.astype({'price':'float'}).astype({'sale_amount':'int'})\n",
    "df['Revenue'] = df['price']*df['sale_amount']\n",
    "df['shop'] = \"Royal Canin Official Shop\"\n",
    "df['tag'] = 'shopee'\n",
    "df['Date and time'] =  datetime.now()\n",
    "df['Timestamp'] = datetime.timestamp(datetime.now())\n",
    "df = df.groupby(['product', 'price', 'shop', 'tag', 'Date and time', 'Timestamp']).agg({\"sale_amount\":\"sum\", \"Revenue\":\"sum\"}).reset_index()\n",
    "\n",
    "df"
   ]
  },
  {
   "cell_type": "code",
   "execution_count": null,
   "id": "a211b026",
   "metadata": {},
   "outputs": [],
   "source": [
    "# regalos\n",
    "\n",
    "listall_product = []\n",
    "listall_price = []\n",
    "list_sale = []\n",
    "\n",
    "for i in range(0,2):\n",
    "    driver = webdriver.Chrome(executable_path = r'C:\\Users\\pongp\\chromedriver')\n",
    "    driver.get(f\"https://shopee.co.th/regalos_officialshop?page={i}&sortBy=pop\")\n",
    "    thai_button = driver.find_element(by=By.XPATH, value='//html/body/div[2]/div[1]/div[1]/div/div[3]/div[1]/button')\n",
    "    thai_button.click()\n",
    "    time.sleep(5)\n",
    "    product_list = driver.find_element(by=By.XPATH, value='//html/body/div[1]/div/div[2]/div/div/div/div[2]/div/div[2]/div/div/div/a[2]')\n",
    "    product_list.click()\n",
    "    data = driver.page_source\n",
    "    soup = bs4.BeautifulSoup(data) #type list\n",
    "    \n",
    "    # product_name\n",
    "    all_product = soup.find_all('div',{'class':'_16lgia _3UdQUf _3Q4n5M'})\n",
    "    for product in all_product:\n",
    "        listall_product.append(product.text)\n",
    "    \n",
    "    # price\n",
    "    all_price = [i.text[1:] for i in soup.find_all('div',{'class':'_2AKyiQ _1UJbfe'})]\n",
    "    for h in all_price:\n",
    "        u = h.split(' ')[0].split(',')\n",
    "        if len(u) == 2:\n",
    "            sale = u[0] + u[1]\n",
    "            listall_price.append(sale)\n",
    "        elif len(u) == 1:\n",
    "            sale = u[0]\n",
    "            listall_price.append(sale)\n",
    "        else :\n",
    "            print(\"ERROR!!\")\n",
    "            break\n",
    "    \n",
    "    # sale_amount\n",
    "    all_sales = soup.find_all('div',{'class':'_36z98S _2uoHuo'})\n",
    "    for k in all_sales:\n",
    "        b = k.text.split(\" \")[1].split(\"พัน\")\n",
    "        if len(b) == 2:\n",
    "            bb = float(b[0]) * 1000\n",
    "            list_sale.append(bb)\n",
    "        elif len(b) == 1:\n",
    "            bb = float(b[0])\n",
    "            list_sale.append(bb)\n",
    "        else :\n",
    "            print(\"ERROR!!\")\n",
    "            break\n",
    "\n",
    "if list_sale == [] :\n",
    "    print(\"ERROR!!\")"
   ]
  },
  {
   "cell_type": "code",
   "execution_count": null,
   "id": "27a20fb1",
   "metadata": {},
   "outputs": [],
   "source": [
    "df2 = pd.DataFrame(list(zip(listall_product, listall_price, list_sale)),columns=['product','price','sale_amount'])\n",
    "df2 = df2.drop_duplicates( keep='last')\n",
    "df2 = df2.astype({'price':'float'}).astype({'sale_amount':'int'})\n",
    "df2['Revenue'] = df2['price']*df2['sale_amount']\n",
    "df2['shop'] = \"Regalos official\"\n",
    "df2['tag'] = 'shopee'\n",
    "df2['Date and time'] =  datetime.now()\n",
    "df2['Timestamp'] = datetime.timestamp(datetime.now())\n",
    "df2 = df2.groupby(['product', 'price', 'shop', 'tag', 'Date and time', 'Timestamp']).agg({\"sale_amount\":\"sum\", \"Revenue\":\"sum\"}).reset_index()\n",
    "\n",
    "df2"
   ]
  },
  {
   "cell_type": "code",
   "execution_count": null,
   "id": "cb5e2626",
   "metadata": {},
   "outputs": [],
   "source": [
    "# regalos\n",
    "\n",
    "listall_product = []\n",
    "listall_price = []\n",
    "list_sale = []\n",
    "\n",
    "for i in range(0,11):\n",
    "    driver = webdriver.Chrome(executable_path = r'C:\\Users\\pongp\\chromedriver')\n",
    "    driver.get(f\"https://shopee.co.th/marspetcare_c?page={i}&sortBy=pop\")\n",
    "    thai_button = driver.find_element(by=By.XPATH, value='//html/body/div[2]/div[1]/div[1]/div/div[3]/div[1]/button')\n",
    "    thai_button.click()\n",
    "    time.sleep(5)\n",
    "    product_list = driver.find_element(by=By.XPATH, value='//html/body/div[1]/div/div[2]/div/div/div/div[2]/div/div[2]/div/div/div/a[2]')\n",
    "    product_list.click()\n",
    "    data = driver.page_source\n",
    "    soup = bs4.BeautifulSoup(data) #type list\n",
    "    \n",
    "    # product_name\n",
    "    all_product = soup.find_all('div',{'class':'_16lgia _3UdQUf _3Q4n5M'})\n",
    "    for product in all_product:\n",
    "        listall_product.append(product.text)\n",
    "    \n",
    "    # price\n",
    "    all_price = [i.text[1:] for i in soup.find_all('div',{'class':'_2AKyiQ _1UJbfe'})]\n",
    "    for h in all_price:\n",
    "        u = h.split(' ')[0].split(',')\n",
    "        if len(u) == 2:\n",
    "            sale = u[0] + u[1]\n",
    "            listall_price.append(sale)\n",
    "        elif len(u) == 1:\n",
    "            sale = u[0]\n",
    "            listall_price.append(sale)\n",
    "        else :\n",
    "            print(\"ERROR!!\")\n",
    "            break\n",
    "    \n",
    "    # sale_amount\n",
    "    all_sales = soup.find_all('div',{'class':'_36z98S _2uoHuo'})\n",
    "    for k in all_sales:\n",
    "        b = k.text.split(\" \")[1].split(\"พัน\")\n",
    "        if len(b) == 2:\n",
    "            bb = float(b[0]) * 1000\n",
    "            list_sale.append(bb)\n",
    "        elif len(b) == 1:\n",
    "            bb = float(b[0])\n",
    "            list_sale.append(bb)\n",
    "        else :\n",
    "            print(\"ERROR!!\")\n",
    "            break\n",
    "\n",
    "if list_sale == [] :\n",
    "    print(\"ERROR!!\")"
   ]
  },
  {
   "cell_type": "code",
   "execution_count": null,
   "id": "bcf1660e",
   "metadata": {},
   "outputs": [],
   "source": [
    "df3 = pd.DataFrame(list(zip(listall_product, listall_price, list_sale)),columns=['product','price','sale_amount'])\n",
    "df3 = df3.drop_duplicates( keep='last')\n",
    "df3 = df3.astype({'price':'float'}).astype({'sale_amount':'int'})\n",
    "df3['Revenue'] = df3['price']*df3['sale_amount']\n",
    "df3['shop'] = \"Pedigree and Whiskas Official\"\n",
    "df3['tag'] = 'shopee'\n",
    "df3['Date and time'] =  datetime.now()\n",
    "df3['Timestamp'] = datetime.timestamp(datetime.now())\n",
    "df3 = df3.groupby(['product', 'price', 'shop', 'tag', 'Date and time', 'Timestamp']).agg({\"sale_amount\":\"sum\", \"Revenue\":\"sum\"}).reset_index()\n",
    "\n",
    "df3"
   ]
  },
  {
   "cell_type": "code",
   "execution_count": null,
   "id": "657b8e3a",
   "metadata": {},
   "outputs": [],
   "source": [
    "# Integrate 3 shops\n",
    "\n",
    "## old time\n",
    "if 'df_all_new' in globals() or 'df_all_new' in locals() :\n",
    "    df_all_old = df_all_new\n",
    "\n",
    "## new time\n",
    "if not ('df_all_new' in globals() or 'df_all_new' in locals()) :\n",
    "    df_all_new = pd.concat([df, df2, df3])\n",
    "    df_all_new[\"sale_amount_diff_one\"] = 0\n",
    "    df_all_new[\"Revenue_diff_one\"] = 0\n",
    "else :\n",
    "    df_all_new = pd.concat([df, df2, df3])\n",
    "    df_merge_new_old = pd.merge(df_all_new, df_all_old, on=['product', 'shop', 'tag'], how='left', suffixes=['', '_old'])\n",
    "    df_merge_new_old['sale_amount_old'] = df_merge_new_old['sale_amount_old'].fillna(0)\n",
    "    df_merge_new_old['Revenue_old'] = df_merge_new_old['Revenue_old'].fillna(0)\n",
    "    df_merge_new_old['sale_amount_diff_one'] = df_merge_new_old['sale_amount'] - df_merge_new_old['sale_amount_old']\n",
    "    df_merge_new_old['Revenue_diff_one'] = df_merge_new_old['Revenue'] - df_merge_new_old['Revenue_old']\n",
    "    # adjust\n",
    "    df_merge_new_old_sent = df_merge_new_old.drop(['Date and time_old', 'Timestamp_old', 'sale_amount_old', 'Revenue_old'], axis=1)\n",
    "    df_merge_new_old_sent = df_merge_new_old_sent.fillna(0)\n",
    "    # df_merge_new_old_sent[df_merge_new_old_sent['sale_amount_diff_one'] < 0]\n",
    "    df_merge_new_old_sent['sale_amount_diff_one'] = df_merge_new_old_sent['sale_amount_diff_one'].apply(lambda x: max(x,0))\n",
    "    df_merge_new_old_sent['Revenue_diff_one'] = df_merge_new_old_sent['Revenue_diff_one'].apply(lambda x: max(x,0))\n",
    "    df_merge_new_old_sent\n",
    "\n",
    "df_all_new"
   ]
  },
  {
   "cell_type": "code",
   "execution_count": null,
   "id": "0922103b",
   "metadata": {},
   "outputs": [],
   "source": [
    "df_all_old"
   ]
  },
  {
   "cell_type": "code",
   "execution_count": null,
   "id": "b57cacf4",
   "metadata": {},
   "outputs": [],
   "source": [
    "# df_merge_new_old = pd.merge(df_all_new, df_all_old, on=['product', 'shop', 'tag'], how='left', suffixes=['', '_old'])\n",
    "# df_merge_new_old['sale_amount_old'] = df_merge_new_old['sale_amount_old'].fillna(0)\n",
    "# df_merge_new_old['Revenue_old'] = df_merge_new_old['Revenue_old'].fillna(0)\n",
    "# df_merge_new_old['sale_amount_diff_one'] = df_merge_new_old['sale_amount'] - df_merge_new_old['sale_amount_old']\n",
    "# df_merge_new_old['Revenue_diff_one'] = df_merge_new_old['Revenue'] - df_merge_new_old['Revenue_old']\n",
    "\n",
    "df_merge_new_old[df_merge_new_old['sale_amount_diff_one'] != 0]"
   ]
  },
  {
   "cell_type": "code",
   "execution_count": null,
   "id": "914d7b78",
   "metadata": {},
   "outputs": [],
   "source": [
    "# # adjust\n",
    "# df_merge_new_old_sent = df_merge_new_old.drop(['Date and time_old', 'Timestamp_old', 'sale_amount_old', 'Revenue_old'], axis=1)\n",
    "# df_merge_new_old_sent = df_merge_new_old_sent.fillna(0)\n",
    "# # df_merge_new_old_sent[df_merge_new_old_sent['sale_amount_diff_one'] < 0]\n",
    "# df_merge_new_old_sent['sale_amount_diff_one'] = df_merge_new_old_sent['sale_amount_diff_one'].apply(lambda x: max(x,0))\n",
    "# df_merge_new_old_sent['Revenue_diff_one'] = df_merge_new_old_sent['Revenue_diff_one'].apply(lambda x: max(x,0))\n",
    "df_merge_new_old_sent"
   ]
  },
  {
   "cell_type": "code",
   "execution_count": null,
   "id": "175c7d8c",
   "metadata": {},
   "outputs": [],
   "source": [
    "# Time for named file\n",
    "file_by_time = df_merge_new_old_sent[df_merge_new_old_sent['shop'] == 'Royal Canin Official Shop']['Date and time'][0].strftime('%Y-%m-%d %H_%M_%S')\n",
    "file_by_time"
   ]
  },
  {
   "cell_type": "code",
   "execution_count": null,
   "id": "c453e997",
   "metadata": {},
   "outputs": [],
   "source": [
    "df_merge_new_old_sent.to_excel(f'Shopee_3shops_{file_by_time}.xlsx', encoding='utf-8')"
   ]
  },
  {
   "cell_type": "code",
   "execution_count": null,
   "id": "38f9da05",
   "metadata": {},
   "outputs": [],
   "source": [
    "# result.to_excel('Shopee_Regalos_new.xlsx', encoding='utf-8')"
   ]
  }
 ],
 "metadata": {
  "kernelspec": {
   "display_name": "Python 3",
   "language": "python",
   "name": "python3"
  },
  "language_info": {
   "codemirror_mode": {
    "name": "ipython",
    "version": 3
   },
   "file_extension": ".py",
   "mimetype": "text/x-python",
   "name": "python",
   "nbconvert_exporter": "python",
   "pygments_lexer": "ipython3",
   "version": "3.8.11"
  }
 },
 "nbformat": 4,
 "nbformat_minor": 5
}
