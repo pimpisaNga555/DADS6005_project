{
 "cells": [
  {
   "cell_type": "code",
   "execution_count": 1,
   "id": "e27d095a",
   "metadata": {},
   "outputs": [],
   "source": [
    "from selenium import webdriver\n",
    "from selenium.webdriver.common.by import By\n",
    "from selenium.webdriver.common.keys import Keys\n",
    "from selenium.webdriver import ActionChains\n",
    "from bs4 import BeautifulSoup\n",
    "import time\n",
    "import requests\n",
    "import bs4\n",
    "import selenium.webdriver.support.expected_conditions as ec\n",
    "from selenium.webdriver.support import expected_conditions\n",
    "from selenium.webdriver.support.ui import WebDriverWait\n",
    "import pandas as pd\n",
    "from datetime import datetime\n",
    "import openpyxl"
   ]
  },
  {
   "cell_type": "markdown",
   "id": "ccbf6c06",
   "metadata": {},
   "source": [
    "## Lazada"
   ]
  },
  {
   "cell_type": "code",
   "execution_count": 2,
   "id": "87613198",
   "metadata": {},
   "outputs": [],
   "source": [
    "url_lazada = \"https://www.lazada.co.th\""
   ]
  },
  {
   "cell_type": "code",
   "execution_count": 6,
   "id": "26f18394",
   "metadata": {},
   "outputs": [
    {
     "name": "stderr",
     "output_type": "stream",
     "text": [
      "<ipython-input-6-f69e515a3c5f>:1: DeprecationWarning: executable_path has been deprecated, please pass in a Service object\n",
      "  driver = webdriver.Chrome(executable_path = r'C:\\Users\\pongp\\chromedriver')\n"
     ]
    },
    {
     "data": {
      "text/plain": [
       "[109.0,\n",
       " 330.0,\n",
       " 330.0,\n",
       " 289.0,\n",
       " 799.0,\n",
       " 239.0,\n",
       " 99.0,\n",
       " 330.0,\n",
       " 330.0,\n",
       " 1029.0,\n",
       " 169.0,\n",
       " 929.0,\n",
       " 219.0,\n",
       " 209.0,\n",
       " 199.0,\n",
       " 330.0,\n",
       " 209.0,\n",
       " 1390.0,\n",
       " 360.0,\n",
       " 699.0,\n",
       " 219.0,\n",
       " 289.0,\n",
       " 289.0,\n",
       " 209.0,\n",
       " 699.0,\n",
       " 299.0,\n",
       " 199.0,\n",
       " 699.0,\n",
       " 1050.0,\n",
       " 899.0,\n",
       " 360.0,\n",
       " 299.0,\n",
       " 209.0,\n",
       " 229.0,\n",
       " 929.0,\n",
       " 609.0,\n",
       " 899.0,\n",
       " 219.0,\n",
       " 699.0,\n",
       " 950.0]"
      ]
     },
     "execution_count": 6,
     "metadata": {},
     "output_type": "execute_result"
    }
   ],
   "source": [
    "# driver = webdriver.Chrome(executable_path = r'C:\\Users\\pongp\\chromedriver')\n",
    "# driver.get('https://www.lazada.co.th')\n",
    "# search = driver.find_element(by=By.XPATH, value='/html/body/div[2]/div/div[1]/div/div/div[2]/div/div[2]/div/form/div/div[1]/input[1]')\n",
    "# search.send_keys('Royal Canin')\n",
    "# search.send_keys(Keys.ENTER)\n",
    "# search_1 = driver.find_element(by=By.XPATH, value='/html/body/div[3]/div/div[2]/div[1]/a')\n",
    "# search_1.click()\n",
    "# time.sleep(3)\n",
    "# click_all_product = driver.find_element(by=By.XPATH, value='/html/body/div[3]/div/div/div[2]/div/div/div/div[2]/div[2]/div/div/div[2]/a[2]')\n",
    "# click_all_product.click()\n",
    "# driver.execute_script(\"document.body.style.zoom='20%'\")\n",
    "# data = driver.page_source\n",
    "# soup = bs4.BeautifulSoup(data)\n",
    "# Name__product = soup.find_all('div',{'class':'RfADt'})\n",
    "\n",
    "# # name product by row\n",
    "# Name__product_list = []\n",
    "# for product in Name__product:\n",
    "#     Name__product_list.append(product.text)\n",
    "\n",
    "\n",
    "# # extract price\n",
    "# all_price = soup.find_all('div',{'class':'aBrP0'})\n",
    "# listall_price = []\n",
    "# for price in all_price:\n",
    "#     listall_price.append(price.text)\n",
    "\n",
    "# # delete symbol like $ or ,\n",
    "# Laz_list_price1 = []\n",
    "# for j in listall_price:\n",
    "#     b = j.split(\"฿\")\n",
    "#     c = b[1].split(\",\")\n",
    "#     if len(c) == 2:\n",
    "#         bb = float((c[0])+(c[1]))\n",
    "#         Laz_list_price1.append(bb)\n",
    "#     elif len(c) == 1:\n",
    "#         bb =float(c[0])\n",
    "#         Laz_list_price1.append(bb)\n",
    "#     else :\n",
    "#         print(\"ERROR!!\")\n",
    "#         break\n",
    "# Laz_list_price1"
   ]
  },
  {
   "cell_type": "code",
   "execution_count": 17,
   "id": "99546d0f",
   "metadata": {},
   "outputs": [
    {
     "name": "stderr",
     "output_type": "stream",
     "text": [
      "<ipython-input-17-12465c08e0c9>:1: DeprecationWarning: executable_path has been deprecated, please pass in a Service object\n",
      "  driver = webdriver.Chrome(executable_path = r'C:\\Users\\pongp\\chromedriver')\n"
     ]
    }
   ],
   "source": [
    "# driver = webdriver.Chrome(executable_path = r'C:\\Users\\pongp\\chromedriver')\n",
    "# driver.get(url_lazada)\n",
    "# search = driver.find_element(by=By.XPATH, value='/html/body/div[2]/div/div[1]/div/div/div[2]/div/div[2]/div/form/div/div[1]/input[1]')\n",
    "# search.send_keys('Royal Canin')\n",
    "# search.send_keys(Keys.ENTER)\n",
    "# search_1 = driver.find_element(by=By.XPATH, value='/html/body/div[3]/div/div[2]/div[1]/a')\n",
    "# time.sleep(5)\n",
    "# search_1.click()\n",
    "# click_all_product = driver.find_element(by=By.XPATH, value='/html/body/div[3]/div/div/div[2]/div/div/div/div[2]/div[2]/div/div/div[2]/a[2]')\n",
    "# click_all_product.click()\n",
    "# # driver.execute_script(\"document.body.style.zoom='20%'\")\n",
    "# # driver.find_element(by=By.CLASS_NAME, value=\"RfADt\")\n",
    "\n",
    "# # Wait for the element to be visible for up to 5000 seconds\n",
    "# wait = WebDriverWait(driver, 100)\n",
    "# elements = wait.until(ec.visibility_of_element_located((By.CLASS_NAME, \"_1cEkb\")))  # \n",
    "# elements_ = driver.find_elements(By.CLASS_NAME, \"_1cEkb\")\n",
    "# # data_ = [element.text for element in elements] # data_ = [element.text for element in elements]\n",
    "# # driver.quit()"
   ]
  },
  {
   "cell_type": "code",
   "execution_count": 18,
   "id": "1dfafaea",
   "metadata": {},
   "outputs": [
    {
     "data": {
      "text/plain": [
       "'9,999+ sold'"
      ]
     },
     "execution_count": 18,
     "metadata": {},
     "output_type": "execute_result"
    }
   ],
   "source": [
    "# # content_element = driver.find_elements(by=By.CLASS_NAME, value='_1cEkb')\n",
    "# # content_html = content_element.get_attribute(\"innerHTML\")\n",
    "\n",
    "# # soup.find_all('div',{'class':'RfADt'})\n",
    "# elements.text"
   ]
  },
  {
   "cell_type": "code",
   "execution_count": 19,
   "id": "1ab66219",
   "metadata": {},
   "outputs": [
    {
     "name": "stdout",
     "output_type": "stream",
     "text": [
      "9,999+ sold\n",
      "5,511 sold\n",
      "6,504 sold\n",
      "4,929 sold\n",
      "782 sold\n",
      "8,083 sold\n",
      "1,466 sold\n",
      "1,014 sold\n",
      "3,508 sold\n",
      "2,222 sold\n",
      "2,454 sold\n",
      "841 sold\n",
      "6,970 sold\n",
      "654 sold\n",
      "9,999+ sold\n",
      "1,011 sold\n",
      "1,886 sold\n",
      "4,285 sold\n",
      "2,455 sold\n",
      "2,128 sold\n",
      "2,030 sold\n",
      "300 sold\n",
      "854 sold\n",
      "882 sold\n",
      "290 sold\n",
      "2,602 sold\n",
      "2,034 sold\n",
      "883 sold\n",
      "6,199 sold\n",
      "351 sold\n",
      "5,417 sold\n",
      "2,885 sold\n",
      "1,014 sold\n",
      "1,338 sold\n",
      "773 sold\n",
      "9,999+ sold\n",
      "4,197 sold\n",
      "9,999+ sold\n",
      "297 sold\n",
      "535 sold\n"
     ]
    }
   ],
   "source": [
    "# for i in elements_:\n",
    "#     print(i.text)"
   ]
  },
  {
   "cell_type": "code",
   "execution_count": 11,
   "id": "28196cbc",
   "metadata": {},
   "outputs": [
    {
     "name": "stderr",
     "output_type": "stream",
     "text": [
      "<ipython-input-11-bd97b87ba709>:10: DeprecationWarning: executable_path has been deprecated, please pass in a Service object\n",
      "  driver = webdriver.Chrome(executable_path = r'C:\\Users\\pongp\\chromedriver')\n"
     ]
    },
    {
     "name": "stdout",
     "output_type": "stream",
     "text": [
      "ERROR!!\n"
     ]
    }
   ],
   "source": [
    "# royal-canin\n",
    "\n",
    "Name__product_list = []\n",
    "Laz_list_price1 = []\n",
    "list_sale_amount = []\n",
    "\n",
    "max_page = 3\n",
    "\n",
    "for page in range(1,max_page+1):\n",
    "    driver = webdriver.Chrome(executable_path = r'C:\\Users\\pongp\\chromedriver')\n",
    "    driver.get(f'https://www.lazada.co.th/royal-canin/?from=wangpu&langFlag=th&page={page}&pageTypeId=2&q=All-Products')\n",
    "    \n",
    "    # product_name\n",
    "    data = driver.page_source\n",
    "    soup = bs4.BeautifulSoup(data)\n",
    "    Name__product = soup.find_all('div',{'class':'RfADt'})\n",
    "    for product in Name__product:\n",
    "        Name__product_list.append(product.text)\n",
    "\n",
    "    # price\n",
    "    all_price = soup.find_all('div',{'class':'aBrP0'})\n",
    "    for price in all_price:\n",
    "        price_ = price.text.replace(\"฿\", \"\").replace(\",\", \"\")\n",
    "        Laz_list_price1.append(price_)\n",
    "    \n",
    "    # sale_amount\n",
    "    wait = WebDriverWait(driver, 50)\n",
    "    # elements = wait.until(ec.visibility_of_element_located((By.CLASS_NAME, \"_1cEkb\")))  \n",
    "    elements_ = driver.find_elements(By.CLASS_NAME, \"_1cEkb\")\n",
    "    for i in elements_:\n",
    "        number = i.text.split(\" \")[0]\n",
    "        number = number.replace(\",\", \"\").replace(\"+\", \"\").replace(\"k\", \"000\")\n",
    "        list_sale_amount.append(number)\n",
    "if list_sale_amount == [] :\n",
    "    print(\"ERROR!!\")"
   ]
  },
  {
   "cell_type": "code",
   "execution_count": 12,
   "id": "29255e38",
   "metadata": {},
   "outputs": [
    {
     "data": {
      "text/html": [
       "<div>\n",
       "<style scoped>\n",
       "    .dataframe tbody tr th:only-of-type {\n",
       "        vertical-align: middle;\n",
       "    }\n",
       "\n",
       "    .dataframe tbody tr th {\n",
       "        vertical-align: top;\n",
       "    }\n",
       "\n",
       "    .dataframe thead th {\n",
       "        text-align: right;\n",
       "    }\n",
       "</style>\n",
       "<table border=\"1\" class=\"dataframe\">\n",
       "  <thead>\n",
       "    <tr style=\"text-align: right;\">\n",
       "      <th></th>\n",
       "      <th>product</th>\n",
       "      <th>price</th>\n",
       "      <th>shop</th>\n",
       "      <th>tag</th>\n",
       "      <th>Date and time</th>\n",
       "      <th>Timestamp</th>\n",
       "      <th>sale_amount</th>\n",
       "      <th>Revenue</th>\n",
       "    </tr>\n",
       "  </thead>\n",
       "  <tbody>\n",
       "  </tbody>\n",
       "</table>\n",
       "</div>"
      ],
      "text/plain": [
       "Empty DataFrame\n",
       "Columns: [product, price, shop, tag, Date and time, Timestamp, sale_amount, Revenue]\n",
       "Index: []"
      ]
     },
     "execution_count": 12,
     "metadata": {},
     "output_type": "execute_result"
    }
   ],
   "source": [
    "df = pd.DataFrame(list(zip(Name__product_list, Laz_list_price1, list_sale_amount)),columns=['product','price','sale_amount'])\n",
    "df = df.drop_duplicates( keep='last')\n",
    "df = df.astype({'price':'float'}).astype({'sale_amount':'int'})\n",
    "df['Revenue'] = df['price']*df['sale_amount']\n",
    "df['shop'] = \"Royal Canin Official Shop\"\n",
    "df['tag'] = 'Lazada'\n",
    "df['Date and time'] =  datetime.now()\n",
    "df['Timestamp'] = datetime.timestamp(datetime.now())\n",
    "df = df.groupby(['product', 'price', 'shop', 'tag', 'Date and time', 'Timestamp']).agg({\"sale_amount\":\"sum\", \"Revenue\":\"sum\"}).reset_index()\n",
    "\n",
    "df"
   ]
  },
  {
   "cell_type": "code",
   "execution_count": null,
   "id": "7a5294e7",
   "metadata": {},
   "outputs": [
    {
     "name": "stderr",
     "output_type": "stream",
     "text": [
      "<ipython-input-13-6bcdc223c0be>:10: DeprecationWarning: executable_path has been deprecated, please pass in a Service object\n",
      "  driver = webdriver.Chrome(executable_path = r'C:\\Users\\pongp\\chromedriver')\n"
     ]
    }
   ],
   "source": [
    "# regalos\n",
    "\n",
    "Name__product_list = []\n",
    "Laz_list_price1 = []\n",
    "list_sale_amount = []\n",
    "\n",
    "max_page = 2\n",
    "\n",
    "for page in range(1,max_page+1):\n",
    "    driver = webdriver.Chrome(executable_path = r'C:\\Users\\pongp\\chromedriver')\n",
    "    driver.get(f'https://www.lazada.co.th/regalos/?from=wangpu&langFlag=th&page={page}&pageTypeId=2&q=All-Products')\n",
    "    \n",
    "    # product_name\n",
    "    data = driver.page_source\n",
    "    soup = bs4.BeautifulSoup(data)\n",
    "    Name__product = soup.find_all('div',{'class':'RfADt'})\n",
    "    for product in Name__product:\n",
    "        Name__product_list.append(product.text)\n",
    "\n",
    "    # price\n",
    "    all_price = soup.find_all('div',{'class':'aBrP0'})\n",
    "    for price in all_price:\n",
    "        price_ = price.text.replace(\"฿\", \"\").replace(\",\", \"\")\n",
    "        Laz_list_price1.append(price_)\n",
    "    \n",
    "    # sale_amount\n",
    "    wait = WebDriverWait(driver, 50)\n",
    "    # elements = wait.until(ec.visibility_of_element_located((By.CLASS_NAME, \"_1cEkb\")))  \n",
    "    elements_ = driver.find_elements(By.CLASS_NAME, \"_1cEkb\")\n",
    "    for i in elements_:\n",
    "        number = i.text.split(\" \")[0]\n",
    "        number = number.replace(\",\", \"\").replace(\"+\", \"\").replace(\"k\", \"000\")\n",
    "        list_sale_amount.append(number)\n",
    "if list_sale_amount == [] :\n",
    "    print(\"ERROR!!\")"
   ]
  },
  {
   "cell_type": "code",
   "execution_count": null,
   "id": "1784eeea",
   "metadata": {},
   "outputs": [],
   "source": [
    "df2 = pd.DataFrame(list(zip(Name__product_list, Laz_list_price1, list_sale_amount)),columns=['product','price','sale_amount'])\n",
    "df2 = df2.drop_duplicates( keep='last')\n",
    "df2 = df2.astype({'price':'float'}).astype({'sale_amount':'int'})\n",
    "df2['Revenue'] = df2['price']*df2['sale_amount']\n",
    "df2['shop'] = \"Regalos official\"\n",
    "df2['tag'] = 'Lazada'\n",
    "df2['Date and time'] =  datetime.now()\n",
    "df2['Timestamp'] = datetime.timestamp(datetime.now())\n",
    "df2 = df2.groupby(['product', 'price', 'shop', 'tag', 'Date and time', 'Timestamp']).agg({\"sale_amount\":\"sum\", \"Revenue\":\"sum\"}).reset_index()\n",
    "\n",
    "df2"
   ]
  },
  {
   "cell_type": "code",
   "execution_count": null,
   "id": "062a7424",
   "metadata": {},
   "outputs": [],
   "source": [
    "# pedigree-whiskas\n",
    "\n",
    "Name__product_list = []\n",
    "Laz_list_price1 = []\n",
    "list_sale_amount = []\n",
    "\n",
    "max_page = 6\n",
    "\n",
    "for page in range(1,max_page+1):\n",
    "    driver = webdriver.Chrome(executable_path = r'C:\\Users\\pongp\\chromedriver')\n",
    "    driver.get(f'https://www.lazada.co.th/pedigree-whiskas/?from=wangpu&langFlag=th&page={page}&pageTypeId=2&q=All-Products')\n",
    "    \n",
    "    # product_name\n",
    "    data = driver.page_source\n",
    "    soup = bs4.BeautifulSoup(data)\n",
    "    Name__product = soup.find_all('div',{'class':'RfADt'})\n",
    "    for product in Name__product:\n",
    "        Name__product_list.append(product.text)\n",
    "\n",
    "    # price\n",
    "    all_price = soup.find_all('div',{'class':'aBrP0'})\n",
    "    for price in all_price:\n",
    "        price_ = price.text.replace(\"฿\", \"\").replace(\",\", \"\")\n",
    "        Laz_list_price1.append(price_)\n",
    "    \n",
    "    # sale_amount\n",
    "    wait = WebDriverWait(driver, 50)\n",
    "    # elements = wait.until(ec.visibility_of_element_located((By.CLASS_NAME, \"_1cEkb\")))  \n",
    "    elements_ = driver.find_elements(By.CLASS_NAME, \"_1cEkb\")\n",
    "    for i in elements_:\n",
    "        number = i.text.split(\" \")[0]\n",
    "        number = number.replace(\",\", \"\").replace(\"+\", \"\").replace(\"k\", \"000\")\n",
    "        list_sale_amount.append(number)"
   ]
  },
  {
   "cell_type": "code",
   "execution_count": null,
   "id": "2ab867af",
   "metadata": {},
   "outputs": [],
   "source": [
    "df3 = pd.DataFrame(list(zip(Name__product_list, Laz_list_price1, list_sale_amount)),columns=['product','price','sale_amount'])\n",
    "df3 = df3.drop_duplicates( keep='last')\n",
    "df3 = df3.astype({'price':'float'}).astype({'sale_amount':'int'})\n",
    "df3['Revenue'] = df3['price']*df3['sale_amount']\n",
    "df3['shop'] = \"Pedigree and Whiskas Official\"\n",
    "df3['tag'] = 'Lazada'\n",
    "df3['Date and time'] =  datetime.now()\n",
    "df3['Timestamp'] = datetime.timestamp(datetime.now())\n",
    "df3 = df3.groupby(['product', 'price', 'shop', 'tag', 'Date and time', 'Timestamp']).agg({\"sale_amount\":\"sum\", \"Revenue\":\"sum\"}).reset_index()\n",
    "\n",
    "df3"
   ]
  },
  {
   "cell_type": "code",
   "execution_count": null,
   "id": "39edffea",
   "metadata": {},
   "outputs": [],
   "source": [
    "# Integrate 3 shops\n",
    "\n",
    "## old time\n",
    "if 'df_all_new' in globals() or 'df_all_new' in locals() :\n",
    "    df_all_old = df_all_new\n",
    "\n",
    "## new time\n",
    "df_all_new = pd.concat([df, df2, df3])\n",
    "# df_all = df_all.groupby(['product', 'price', 'shop', 'tag', 'Date and time', 'Timestamp']).agg({\"sale_amount\":\"sum\", \"Revenue\":\"sum\"}).reset_index()\n",
    "# df_all.to_csv(\"lazada_3shops.csv\")\n",
    "df_all_new"
   ]
  },
  {
   "cell_type": "code",
   "execution_count": null,
   "id": "3a31b8aa",
   "metadata": {},
   "outputs": [],
   "source": [
    "df_all_old"
   ]
  },
  {
   "cell_type": "code",
   "execution_count": null,
   "id": "ae02a226",
   "metadata": {},
   "outputs": [],
   "source": [
    "df_merge_new_old = pd.merge(df_all_new, df_all_old, on=['product', 'shop', 'tag'], how='left', suffixes=['', '_old'])\n",
    "df_merge_new_old['sale_amount_old'] = df_merge_new_old['sale_amount_old'].fillna(0)\n",
    "df_merge_new_old['Revenue_old'] = df_merge_new_old['Revenue_old'].fillna(0)\n",
    "df_merge_new_old['sale_amount_diff_one'] = df_merge_new_old['sale_amount'] - df_merge_new_old['sale_amount_old']\n",
    "df_merge_new_old['Revenue_diff_one'] = df_merge_new_old['Revenue'] - df_merge_new_old['Revenue_old']\n",
    "\n",
    "df_merge_new_old[df_merge_new_old['sale_amount_diff_one'] != 0]"
   ]
  },
  {
   "cell_type": "code",
   "execution_count": null,
   "id": "058f7371",
   "metadata": {},
   "outputs": [],
   "source": [
    "# adjust\n",
    "df_merge_new_old_sent = df_merge_new_old.drop(['Date and time_old', 'Timestamp_old', 'sale_amount_old', 'Revenue_old'], axis=1)\n",
    "df_merge_new_old_sent = df_merge_new_old_sent.fillna(0)\n",
    "# df_merge_new_old_sent[df_merge_new_old_sent['sale_amount_diff_one'] < 0]\n",
    "df_merge_new_old_sent['sale_amount_diff_one'] = df_merge_new_old_sent['sale_amount_diff_one'].apply(lambda x: max(x,0))\n",
    "df_merge_new_old_sent['Revenue_diff_one'] = df_merge_new_old_sent['Revenue_diff_one'].apply(lambda x: max(x,0))\n",
    "df_merge_new_old_sent"
   ]
  },
  {
   "cell_type": "code",
   "execution_count": null,
   "id": "2ab4555d",
   "metadata": {},
   "outputs": [],
   "source": [
    "# # In\n",
    "# if 'df_all_new' in globals() or 'df_all_new' in locals() :\n",
    "# df_all_ = pd.DataFrame(columns=df_merge_new_old_sent.columns)"
   ]
  },
  {
   "cell_type": "code",
   "execution_count": null,
   "id": "662a5d5b",
   "metadata": {},
   "outputs": [],
   "source": [
    "# Time for named file\n",
    "file_by_time = df_merge_new_old_sent[df_merge_new_old_sent['shop'] == 'Royal Canin Official Shop']['Date and time'][0].strftime('%Y-%m-%d %H_%M_%S')\n",
    "file_by_time"
   ]
  },
  {
   "cell_type": "code",
   "execution_count": null,
   "id": "acaab093",
   "metadata": {},
   "outputs": [],
   "source": [
    "df_merge_new_old_sent.to_excel(f'Lazada_3shops_{file_by_time}.xlsx', encoding='utf-8')"
   ]
  },
  {
   "cell_type": "code",
   "execution_count": null,
   "id": "6c9675dd",
   "metadata": {},
   "outputs": [],
   "source": [
    "# df_all = pd.read_excel(\"Lazada_3shops.xlsx\", index_col=0 )\n",
    "wait"
   ]
  },
  {
   "cell_type": "code",
   "execution_count": null,
   "id": "688b22fb",
   "metadata": {},
   "outputs": [],
   "source": [
    "from sklearn import linear_model\n",
    "import numpy as np\n",
    "reg = linear_model.LinearRegression()\n",
    "\n",
    "reg.fit(np.array(df_all['price']).reshape(-1, 1), np.array(df_all['Revenue']))"
   ]
  },
  {
   "cell_type": "code",
   "execution_count": null,
   "id": "f3093d66",
   "metadata": {},
   "outputs": [],
   "source": [
    "df_merge_new_old_sent['Date and time'][0]"
   ]
  },
  {
   "cell_type": "code",
   "execution_count": null,
   "id": "0f0dca79",
   "metadata": {},
   "outputs": [],
   "source": []
  }
 ],
 "metadata": {
  "kernelspec": {
   "display_name": "Python 3",
   "language": "python",
   "name": "python3"
  },
  "language_info": {
   "codemirror_mode": {
    "name": "ipython",
    "version": 3
   },
   "file_extension": ".py",
   "mimetype": "text/x-python",
   "name": "python",
   "nbconvert_exporter": "python",
   "pygments_lexer": "ipython3",
   "version": "3.8.11"
  }
 },
 "nbformat": 4,
 "nbformat_minor": 5
}
